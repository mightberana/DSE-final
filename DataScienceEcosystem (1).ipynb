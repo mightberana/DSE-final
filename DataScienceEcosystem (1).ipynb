{
 "cells": [
  {
   "cell_type": "markdown",
   "id": "96e6aac1-3b2b-4297-b59b-3c31fbea7ef7",
   "metadata": {},
   "source": [
    "# Data Science Tools and Ecosystem\n"
   ]
  },
  {
   "cell_type": "markdown",
   "id": "d5afe3a5-ce2a-4b3b-8a2f-a1225e23bc7a",
   "metadata": {
    "tags": []
   },
   "source": [
    "# Introduction\n",
    "\n",
    "In this notebook, Data Science Tools and Ecosystem are summarized.\n"
   ]
  },
  {
   "cell_type": "markdown",
   "id": "ce57209a-6d1f-4251-b193-51a25f0c25bd",
   "metadata": {},
   "source": [
    "# Here are some popular data science langauges\n",
    "\n",
    "- Python\n",
    "- R\n",
    "- Julia\n",
    "- SQL\n",
    "- Scala"
   ]
  },
  {
   "cell_type": "markdown",
   "id": "86c1573a-c3e6-4ecd-843f-11517d2f1c35",
   "metadata": {},
   "source": [
    "# Data Science Tools and Ecosystem\n",
    "\n",
    "| Data Science Tools        |\n",
    "|---------------------------|\n",
    "| Jupyter Notebook          |\n",
    "| RStudio                   |\n",
    "| VS Code with Python       |\n"
   ]
  },
  {
   "cell_type": "markdown",
   "id": "da53d8d6-2607-4773-90c1-0ff29a3a36ea",
   "metadata": {
    "tags": []
   },
   "source": [
    "# Arithmetic Expression Examples\n",
    "\n",
    "### Below are a few examples of evaluating arithmetic expressions in Python.\n",
    "\n",
    "Let's look at some basic arithmetic operators:\n",
    "\n",
    "- **Addition (+):** Adds two numbers together. For example, `2 + 3` results in `5`.\n",
    "- **Subtraction (-):** Subtracts the second number from the first. For example, `5 - 3` results in `2`.\n",
    "- **Multiplication (*):** Multiplies two numbers. For example, `2 * 3` results in `6`."
   ]
  },
  {
   "cell_type": "code",
   "execution_count": 2,
   "id": "b798a5d0-92eb-4a4a-8fc6-0b9da524fa2f",
   "metadata": {
    "tags": []
   },
   "outputs": [
    {
     "data": {
      "text/plain": [
       "17"
      ]
     },
     "execution_count": 2,
     "metadata": {},
     "output_type": "execute_result"
    }
   ],
   "source": [
    "# This is a simple arithmetic expression to multiply then add integers.\n",
    "result = (3 * 4) + 5\n",
    "result\n"
   ]
  },
  {
   "cell_type": "code",
   "execution_count": 3,
   "id": "2a7e2a7b-1101-447e-a501-09c104072a3e",
   "metadata": {
    "tags": []
   },
   "outputs": [
    {
     "data": {
      "text/plain": [
       "3.3333333333333335"
      ]
     },
     "execution_count": 3,
     "metadata": {},
     "output_type": "execute_result"
    }
   ],
   "source": [
    "# This will convert 200 minutes to hours by dividing by 60.\n",
    "minutes = 200\n",
    "hours = minutes / 60\n",
    "hours\n"
   ]
  },
  {
   "cell_type": "markdown",
   "id": "e38ce98d-b7e0-439e-a9e2-1799bce6303f",
   "metadata": {},
   "source": [
    "**Objectives:**\n",
    "\n",
    "- List popular languages for Data Science.\n",
    "- Understand basic arithmetic operators and expressions in Python.\n",
    "- Perform multiplication and addition operations using Python code.\n",
    "- Convert minutes to hours using Python code.\n",
    "- Demonstrate the use of Markdown cells in Jupyter Notebook.\n"
   ]
  },
  {
   "cell_type": "markdown",
   "id": "95ead4fa-e485-4cb8-bf96-80e591ce1ac9",
   "metadata": {
    "tags": []
   },
   "source": [
    "## Author\n",
    "Rana\n"
   ]
  },
  {
   "cell_type": "code",
   "execution_count": null,
   "id": "a4479090-707c-4073-acb9-68e906153025",
   "metadata": {},
   "outputs": [],
   "source": []
  },
  {
   "cell_type": "code",
   "execution_count": null,
   "id": "9e351660-cc81-41c6-a3cf-e6c73c4a6359",
   "metadata": {},
   "outputs": [],
   "source": []
  }
 ],
 "metadata": {
  "kernelspec": {
   "display_name": "Python",
   "language": "python",
   "name": "conda-env-python-py"
  },
  "language_info": {
   "codemirror_mode": {
    "name": "ipython",
    "version": 3
   },
   "file_extension": ".py",
   "mimetype": "text/x-python",
   "name": "python",
   "nbconvert_exporter": "python",
   "pygments_lexer": "ipython3",
   "version": "3.7.12"
  }
 },
 "nbformat": 4,
 "nbformat_minor": 5
}
